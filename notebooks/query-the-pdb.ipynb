{
 "cells": [
  {
   "cell_type": "code",
   "execution_count": 48,
   "id": "e41ae1c4-7cd0-4496-9796-f70f9095f21e",
   "metadata": {},
   "outputs": [],
   "source": [
    "import collections\n",
    "import logging \n",
    "import pathlib\n",
    "import time \n",
    "import warnings \n",
    "import datetime "
   ]
  },
  {
   "cell_type": "code",
   "execution_count": 49,
   "id": "63a16038-9957-484b-bce6-91dea0b602d9",
   "metadata": {},
   "outputs": [],
   "source": [
    "import pandas as pd\n",
    "import matplotlib.pyplot as plt\n",
    "from bs4 import BeautifulSoup\n",
    "import requests"
   ]
  },
  {
   "cell_type": "code",
   "execution_count": 50,
   "id": "5b7d1b92-174b-4cd6-bd27-5a2a21eb5b46",
   "metadata": {},
   "outputs": [],
   "source": [
    "from tqdm.auto import tqdm\n",
    "import requests_cache \n",
    "import nglview\n",
    "import pypdb"
   ]
  },
  {
   "cell_type": "code",
   "execution_count": 51,
   "id": "ae5a05e1-45e9-43fb-8eb8-85712a910532",
   "metadata": {},
   "outputs": [],
   "source": [
    "import biotite.database.rcsb as rcsb\n",
    "from rdkit.Chem import Draw \n",
    "from rdkit.Chem import PandasTools"
   ]
  },
  {
   "cell_type": "code",
   "execution_count": 54,
   "id": "57d50ff2-2279-455b-bf39-8e261b3884e3",
   "metadata": {},
   "outputs": [],
   "source": [
    "from opencadd.structure.superposition.api import align, METHODS\n",
    "from opencadd.structure.core import Structure"
   ]
  },
  {
   "cell_type": "code",
   "execution_count": 55,
   "id": "404f739c-8dda-420b-921d-0b21cb7336cb",
   "metadata": {},
   "outputs": [],
   "source": [
    "logger = logging.getLogger(\"opencadd\")\n",
    "logger.setLevel(logging.ERROR)\n",
    "warnings.filterwarnings(\"ignore\")"
   ]
  },
  {
   "cell_type": "code",
   "execution_count": 56,
   "id": "a11b2705-cb07-42b4-8367-270ab99b0a66",
   "metadata": {},
   "outputs": [],
   "source": [
    "requests_cache.install_cache(\"rcsb_pdb\", backend=\"memory\")"
   ]
  },
  {
   "cell_type": "code",
   "execution_count": 57,
   "id": "f44c72e1-59af-41b6-bee6-4182d8702196",
   "metadata": {},
   "outputs": [],
   "source": [
    "HERE = pathlib.Path(_dh[-1])\n",
    "DATA = HERE / \"data\""
   ]
  },
  {
   "cell_type": "code",
   "execution_count": 58,
   "id": "64a82ec4-5d0d-4a33-97bc-77cf07a18ef0",
   "metadata": {},
   "outputs": [],
   "source": [
    "#We use EGFR as query protein\n",
    "# The UniProt ID of EGFR is P00533\n",
    "uniprot_id = \"P00533\""
   ]
  },
  {
   "cell_type": "code",
   "execution_count": 59,
   "id": "11c626e9-e762-4675-8e37-c5e73dcc76f0",
   "metadata": {},
   "outputs": [],
   "source": [
    "#We define our criteria\n",
    "uniprot_id = \"P00533\"\n",
    "before_deposition_date = \"2020-01-01T00:00:00Z\"\n",
    "experimental_method = \"X-RAY DIFFRACTION\"\n",
    "max_resolution = 3.0\n",
    "n_chains = 1\n",
    "min_ligand_molecular_weight = 100.0"
   ]
  },
  {
   "cell_type": "code",
   "execution_count": 60,
   "id": "773ac2fe-335a-4c86-8f28-d9d6cf846bb3",
   "metadata": {},
   "outputs": [],
   "source": [
    "#We set up each query\n",
    "query_by_uniprot_id = rcsb.FieldQuery(\n",
    "    \"rcsb_polymer_entity_container_identifiers.reference_sequence_identifiers.database_accession\",\n",
    "    exact_match=uniprot_id,\n",
    ")\n",
    "query_by_deposition_date = rcsb.FieldQuery(\n",
    "    \"rcsb_accession_info.deposit_date\", less=before_deposition_date\n",
    ")\n",
    "query_by_experimental_method = rcsb.FieldQuery(\"exptl.method\", exact_match=experimental_method)\n",
    "query_by_resolution = rcsb.FieldQuery(\n",
    "    \"rcsb_entry_info.resolution_combined\", less_or_equal=max_resolution\n",
    ")\n",
    "query_by_polymer_count = rcsb.FieldQuery(\n",
    "    \"rcsb_entry_info.deposited_polymer_entity_instance_count\", equals=n_chains\n",
    ")\n",
    "query_by_ligand_mw = rcsb.FieldQuery(\n",
    "    \"chem_comp.formula_weight\", molecular_definition=True, greater=min_ligand_molecular_weight\n",
    ")"
   ]
  },
  {
   "cell_type": "code",
   "execution_count": 61,
   "id": "cee8046e-9a35-46df-9c3f-3d94359262ce",
   "metadata": {},
   "outputs": [
    {
     "name": "stdout",
     "output_type": "stream",
     "text": [
      "Number of structures with UniProt ID P00533: 262\n",
      "Number of structures deposited before 2020-01-01T00:00:00Z: 166330\n",
      "Number of structures resolved by X-RAY DIFFRACTION: 168846\n",
      "Number of structures with resolution less than or equal to 3.0: 160713\n",
      "Number of structures with only 1 chain: 72252\n",
      "Number of structures with ligand of more than or equal to 100.0 Da: 1195685\n"
     ]
    }
   ],
   "source": [
    "#We perform each of the queries alone and check the number of matches per condition\n",
    "print(f\"Number of structures with UniProt ID {uniprot_id}: {rcsb.count(query_by_uniprot_id)}\")\n",
    "time.sleep(0.1)  # wait shortly to not overload the API\n",
    "print(\n",
    "    f\"Number of structures deposited before {before_deposition_date}: {rcsb.count(query_by_deposition_date)}\"\n",
    ")\n",
    "time.sleep(0.1)\n",
    "print(\n",
    "    f\"Number of structures resolved by {experimental_method}: {rcsb.count(query_by_experimental_method)}\"\n",
    ")\n",
    "time.sleep(0.1)\n",
    "print(\n",
    "    f\"Number of structures with resolution less than or equal to {max_resolution}: {rcsb.count(query_by_resolution)}\"\n",
    ")\n",
    "time.sleep(0.1)\n",
    "print(f\"Number of structures with only {n_chains} chain: {rcsb.count(query_by_polymer_count)}\")\n",
    "time.sleep(0.1)\n",
    "print(\n",
    "    f\"Number of structures with ligand of more than or equal to {min_ligand_molecular_weight} Da: {rcsb.count(query_by_ligand_mw)}\"\n",
    ")"
   ]
  },
  {
   "cell_type": "code",
   "execution_count": 62,
   "id": "910277df-a50d-465a-9b86-f58c417f926a",
   "metadata": {},
   "outputs": [
    {
     "name": "stdout",
     "output_type": "stream",
     "text": [
      "Number of matches: 110\n",
      "Selected PDB IDs:\n",
      "6S9C 6S9D 5HG9 5HG7 5HG8 5HG5 6JXT 2EB2 2EB3 3UG2 3UG1 5GMP 5U8L 4HJO 6S8A 4LI5 6JX4 6JX0 6JWL 5GTZ 5J9Y 5J9Z 4LQM 4G5J 5XDL 5XDK 4I23 4I22 5UG8 5UG9 4I1Z 6S89 5UGB 5UGC 5UGA 5HCX 5CAV 5CAU 1M17 5HCY 5HCZ 2RGP 5X26 4RJ4 5X27 5C8M 5C8N 5C8K 4RJ8 4RJ7 5X28 4RJ6 4WKQ 5ZWJ 3BEL 3GOP 1M14 5CAS 5CAP 5CAQ 2GS2 5CAN 6D8E 5CAO 5CAL 4ZAU 4JRV 3POZ 4JR3 5EM5 5EDQ 5EDR 5EM8 5EDP 5EM6 5EM7 3VJO 2J5F 3VJN 5FED 5HIC 6JRK 5HIB 6JRJ 2ITV 4WRG 2ITW 2ITX 2ITZ 5FEE 2ITN 2ITP 4JQ8 2ITQ 4JQ7 2ITT 2ITU 6JRX 3W2S 3W33 3W2R 3W32 3W2Q 3W2P 3W2O 5GNK 5XGM 1XKK 6JZ0 5ZTO\n"
     ]
    }
   ],
   "source": [
    "query = rcsb.CompositeQuery(\n",
    "    [\n",
    "        query_by_uniprot_id,\n",
    "        query_by_deposition_date,\n",
    "        query_by_experimental_method,\n",
    "        query_by_resolution,\n",
    "        query_by_polymer_count,\n",
    "        query_by_ligand_mw,\n",
    "    ],\n",
    "    \"and\",\n",
    ")\n",
    "pdb_ids = rcsb.search(query)\n",
    "print(f\"Number of matches: {len(pdb_ids)}\")\n",
    "print(\"Selected PDB IDs:\")\n",
    "print(*pdb_ids)"
   ]
  },
  {
   "cell_type": "code",
   "execution_count": 63,
   "id": "670f23f8-e0fe-4ecc-b762-5da590d30e97",
   "metadata": {},
   "outputs": [],
   "source": [
    "import redo\n",
    "@redo.retriable(attempts=10, sleeptime=2)\n",
    "def describe_one_pdb_id(pdb_id):\n",
    "    \"\"\"Fetch meta information from PDB.\"\"\"\n",
    "    described = pypdb.describe_pdb(pdb_id)\n",
    "    if described is None:\n",
    "        print(f\"! Error while fetching {pdb_id}, retrying ...\")\n",
    "        raise ValueError(f\"Could not fetch PDB id {pdb_id}\")\n",
    "    return described"
   ]
  },
  {
   "cell_type": "code",
   "execution_count": 64,
   "id": "adda1915-676d-409b-bb33-b787165e7460",
   "metadata": {},
   "outputs": [
    {
     "data": {
      "application/vnd.jupyter.widget-view+json": {
       "model_id": "f6c38b00c1694c9093c11cfead12c39b",
       "version_major": 2,
       "version_minor": 0
      },
      "text/plain": [
       "  0%|          | 0/110 [00:00<?, ?it/s]"
      ]
     },
     "metadata": {},
     "output_type": "display_data"
    }
   ],
   "source": [
    "pdbs_data = [describe_one_pdb_id(pdb_id) for pdb_id in tqdm(pdb_ids)]"
   ]
  },
  {
   "cell_type": "code",
   "execution_count": 65,
   "id": "2328ee24-4fc0-4dfc-ae8a-bf3287250a16",
   "metadata": {},
   "outputs": [
    {
     "data": {
      "text/plain": [
       "{'id': '5U8L'}"
      ]
     },
     "execution_count": 65,
     "metadata": {},
     "output_type": "execute_result"
    }
   ],
   "source": [
    "pdbs_data[12][\"entry\"]"
   ]
  },
  {
   "cell_type": "code",
   "execution_count": 66,
   "id": "20d388f5-51ce-4098-ada4-eb98ad3486fd",
   "metadata": {},
   "outputs": [
    {
     "data": {
      "text/html": [
       "<div>\n",
       "<style scoped>\n",
       "    .dataframe tbody tr th:only-of-type {\n",
       "        vertical-align: middle;\n",
       "    }\n",
       "\n",
       "    .dataframe tbody tr th {\n",
       "        vertical-align: top;\n",
       "    }\n",
       "\n",
       "    .dataframe thead th {\n",
       "        text-align: right;\n",
       "    }\n",
       "</style>\n",
       "<table border=\"1\" class=\"dataframe\">\n",
       "  <thead>\n",
       "    <tr style=\"text-align: right;\">\n",
       "      <th></th>\n",
       "      <th>pdb_id</th>\n",
       "      <th>resolution</th>\n",
       "    </tr>\n",
       "  </thead>\n",
       "  <tbody>\n",
       "    <tr>\n",
       "      <th>0</th>\n",
       "      <td>5UG9</td>\n",
       "      <td>1.330</td>\n",
       "    </tr>\n",
       "    <tr>\n",
       "      <th>1</th>\n",
       "      <td>5HG8</td>\n",
       "      <td>1.420</td>\n",
       "    </tr>\n",
       "    <tr>\n",
       "      <th>2</th>\n",
       "      <td>5UG8</td>\n",
       "      <td>1.460</td>\n",
       "    </tr>\n",
       "    <tr>\n",
       "      <th>3</th>\n",
       "      <td>3POZ</td>\n",
       "      <td>1.500</td>\n",
       "    </tr>\n",
       "    <tr>\n",
       "      <th>4</th>\n",
       "      <td>5HG5</td>\n",
       "      <td>1.520</td>\n",
       "    </tr>\n",
       "    <tr>\n",
       "      <th>...</th>\n",
       "      <td>...</td>\n",
       "      <td>...</td>\n",
       "    </tr>\n",
       "    <tr>\n",
       "      <th>105</th>\n",
       "      <td>2ITX</td>\n",
       "      <td>2.980</td>\n",
       "    </tr>\n",
       "    <tr>\n",
       "      <th>106</th>\n",
       "      <td>5GTZ</td>\n",
       "      <td>2.999</td>\n",
       "    </tr>\n",
       "    <tr>\n",
       "      <th>107</th>\n",
       "      <td>2J5F</td>\n",
       "      <td>3.000</td>\n",
       "    </tr>\n",
       "    <tr>\n",
       "      <th>108</th>\n",
       "      <td>5C8K</td>\n",
       "      <td>3.000</td>\n",
       "    </tr>\n",
       "    <tr>\n",
       "      <th>109</th>\n",
       "      <td>4I1Z</td>\n",
       "      <td>3.000</td>\n",
       "    </tr>\n",
       "  </tbody>\n",
       "</table>\n",
       "<p>110 rows × 2 columns</p>\n",
       "</div>"
      ],
      "text/plain": [
       "    pdb_id  resolution\n",
       "0     5UG9       1.330\n",
       "1     5HG8       1.420\n",
       "2     5UG8       1.460\n",
       "3     3POZ       1.500\n",
       "4     5HG5       1.520\n",
       "..     ...         ...\n",
       "105   2ITX       2.980\n",
       "106   5GTZ       2.999\n",
       "107   2J5F       3.000\n",
       "108   5C8K       3.000\n",
       "109   4I1Z       3.000\n",
       "\n",
       "[110 rows x 2 columns]"
      ]
     },
     "execution_count": 66,
     "metadata": {},
     "output_type": "execute_result"
    }
   ],
   "source": [
    "resolution = pd.DataFrame(\n",
    "    [\n",
    "        [pdb_data[\"entry\"][\"id\"], pdb_data[\"rcsb_entry_info\"][\"resolution_combined\"][0]]\n",
    "        for pdb_data in pdbs_data\n",
    "    ],\n",
    "    columns=[\"pdb_id\", \"resolution\"],\n",
    ").sort_values(by=\"resolution\", ignore_index=True)\n",
    "resolution"
   ]
  },
  {
   "cell_type": "code",
   "execution_count": 67,
   "id": "94fd6596-ac5b-4c77-bf95-19cf4cebde7e",
   "metadata": {},
   "outputs": [],
   "source": [
    "top_num = 6  # Number of top structures"
   ]
  },
  {
   "cell_type": "code",
   "execution_count": 68,
   "id": "63f20faf-4e04-4deb-93e0-75bb5b518c2b",
   "metadata": {},
   "outputs": [
    {
     "name": "stdout",
     "output_type": "stream",
     "text": [
      "Selected PDB IDs: ['5UG9', '5HG8', '5UG8', '3POZ', '5HG5', '5UGC']\n"
     ]
    }
   ],
   "source": [
    "selected_pdb_ids = resolution[:top_num][\"pdb_id\"].to_list()\n",
    "print(f\"Selected PDB IDs: {selected_pdb_ids}\")"
   ]
  },
  {
   "cell_type": "code",
   "execution_count": 69,
   "id": "def4f064-3643-475f-a245-afd8f628fd3f",
   "metadata": {},
   "outputs": [],
   "source": [
    "def get_ligands(pdb_id):\n",
    "    \"\"\"\n",
    "    RCSB has not provided a new endpoint for ligand information yet. As a\n",
    "    workaround we are obtaining extra information from ligand-expo.rcsb.org,\n",
    "    using HTML parsing. Check Talktorial T011 for more info on this technique!\n",
    "    \"\"\"\n",
    "    pdb_info = _fetch_pdb_nonpolymer_info(pdb_id)\n",
    "    ligand_expo_ids = [\n",
    "        nonpolymer_entities[\"pdbx_entity_nonpoly\"][\"comp_id\"]\n",
    "        for nonpolymer_entities in pdb_info[\"data\"][\"entry\"][\"nonpolymer_entities\"]\n",
    "    ]\n",
    "\n",
    "    ligands = {}\n",
    "    for ligand_expo_id in ligand_expo_ids:\n",
    "        ligand_expo_info = _fetch_ligand_expo_info(ligand_expo_id)\n",
    "        ligands[ligand_expo_id] = ligand_expo_info\n",
    "\n",
    "    return ligands\n",
    "\n",
    "\n",
    "def _fetch_pdb_nonpolymer_info(pdb_id):\n",
    "    \"\"\"\n",
    "    Fetch nonpolymer data from rcsb.org.\n",
    "    Thanks @BJWiley233 and Rachel Green for this GraphQL solution.\n",
    "    \"\"\"\n",
    "    query = (\n",
    "        \"\"\"{\n",
    "          entry(entry_id: \"%s\") {\n",
    "            nonpolymer_entities {\n",
    "              pdbx_entity_nonpoly {\n",
    "                comp_id\n",
    "                name\n",
    "                rcsb_prd_id\n",
    "              }\n",
    "            }\n",
    "          }\n",
    "        }\"\"\"\n",
    "        % pdb_id\n",
    "    )\n",
    "\n",
    "    query_url = f\"https://data.rcsb.org/graphql?query={query}\"\n",
    "    response = requests.get(query_url)\n",
    "    response.raise_for_status()\n",
    "    info = response.json()\n",
    "    return info\n",
    "\n",
    "\n",
    "def _fetch_ligand_expo_info(ligand_expo_id):\n",
    "    \"\"\"\n",
    "    Fetch ligand data from ligand-expo.rcsb.org.\n",
    "    \"\"\"\n",
    "    r = requests.get(f\"http://ligand-expo.rcsb.org/reports/{ligand_expo_id[0]}/{ligand_expo_id}/\")\n",
    "    r.raise_for_status()\n",
    "    html = BeautifulSoup(r.text)\n",
    "    info = {}\n",
    "    for table in html.find_all(\"table\"):\n",
    "        for row in table.find_all(\"tr\"):\n",
    "            cells = row.find_all(\"td\")\n",
    "            if len(cells) != 2:\n",
    "                continue\n",
    "            key, value = cells\n",
    "            if key.string and key.string.strip():\n",
    "                info[key.string.strip()] = \"\".join(value.find_all(string=True))\n",
    "\n",
    "    # Postprocess some known values\n",
    "    info[\"Molecular weight\"] = float(info[\"Molecular weight\"].split()[0])\n",
    "    info[\"Formal charge\"] = int(info[\"Formal charge\"])\n",
    "    info[\"Atom count\"] = int(info[\"Atom count\"])\n",
    "    info[\"Chiral atom count\"] = int(info[\"Chiral atom count\"])\n",
    "    info[\"Bond count\"] = int(info[\"Bond count\"])\n",
    "    info[\"Aromatic bond count\"] = int(info[\"Aromatic bond count\"])\n",
    "    return info"
   ]
  },
  {
   "cell_type": "code",
   "execution_count": 70,
   "id": "d28480d3-69ab-435a-85c5-5d6801ea9e3f",
   "metadata": {},
   "outputs": [],
   "source": [
    "columns = [\n",
    "    \"@structureId\",\n",
    "    \"@chemicalID\",\n",
    "    \"@type\",\n",
    "    \"@molecularWeight\",\n",
    "    \"chemicalName\",\n",
    "    \"formula\",\n",
    "    \"InChI\",\n",
    "    \"InChIKey\",\n",
    "    \"smiles\",\n",
    "]\n",
    "rows = []\n",
    "for pdb_id in selected_pdb_ids:\n",
    "    ligands = get_ligands(pdb_id)\n",
    "    # If several ligands contained, take largest (first in results)\n",
    "    ligand_id, properties = max(ligands.items(), key=lambda kv: kv[1][\"Molecular weight\"])\n",
    "    rows.append(\n",
    "        [\n",
    "            pdb_id,\n",
    "            ligand_id,\n",
    "            properties[\"Component type\"],\n",
    "            properties[\"Molecular weight\"],\n",
    "            properties[\"Name\"],\n",
    "            properties[\"Formula\"],\n",
    "            properties[\"InChI descriptor\"],\n",
    "            properties[\"InChIKey descriptor\"],\n",
    "            properties[\"Stereo SMILES (OpenEye)\"],\n",
    "        ]\n",
    "    )"
   ]
  },
  {
   "cell_type": "code",
   "execution_count": 71,
   "id": "798202d2-4765-4432-ac2a-0adba15e9678",
   "metadata": {},
   "outputs": [
    {
     "data": {
      "text/html": [
       "<div>\n",
       "<style scoped>\n",
       "    .dataframe tbody tr th:only-of-type {\n",
       "        vertical-align: middle;\n",
       "    }\n",
       "\n",
       "    .dataframe tbody tr th {\n",
       "        vertical-align: top;\n",
       "    }\n",
       "\n",
       "    .dataframe thead th {\n",
       "        text-align: right;\n",
       "    }\n",
       "</style>\n",
       "<table border=\"1\" class=\"dataframe\">\n",
       "  <thead>\n",
       "    <tr style=\"text-align: right;\">\n",
       "      <th></th>\n",
       "      <th>@structureId</th>\n",
       "      <th>@chemicalID</th>\n",
       "      <th>@type</th>\n",
       "      <th>@molecularWeight</th>\n",
       "      <th>chemicalName</th>\n",
       "      <th>formula</th>\n",
       "      <th>InChI</th>\n",
       "      <th>InChIKey</th>\n",
       "      <th>smiles</th>\n",
       "    </tr>\n",
       "  </thead>\n",
       "  <tbody>\n",
       "    <tr>\n",
       "      <th>0</th>\n",
       "      <td>5UG9</td>\n",
       "      <td>8AM</td>\n",
       "      <td>NON-POLYMER</td>\n",
       "      <td>445.494</td>\n",
       "      <td>N-[(3R,4R)-4-fluoro-1-{6-[(3-methoxy-1-methyl-...</td>\n",
       "      <td>C20 H28 F N9 O2</td>\n",
       "      <td>InChI=1S/C20H28FN9O2/c1-6-15(31)23-13-9-29(7-1...</td>\n",
       "      <td>MJLFLAORJNTNDV-CHWSQXEVSA-N</td>\n",
       "      <td>CCC(=O)N[C@@H]1CN(C[C@H]1F)c2nc(c3c(n2)n(cn3)C...</td>\n",
       "    </tr>\n",
       "    <tr>\n",
       "      <th>1</th>\n",
       "      <td>5HG8</td>\n",
       "      <td>634</td>\n",
       "      <td>NON-POLYMER</td>\n",
       "      <td>377.400</td>\n",
       "      <td>N-[3-({2-[(1-methyl-1H-pyrazol-4-yl)amino]-7H-...</td>\n",
       "      <td>C19 H19 N7 O2</td>\n",
       "      <td>InChI=1S/C19H19N7O2/c1-3-16(27)22-12-5-4-6-14(...</td>\n",
       "      <td>YWNHZBNRKJYHTR-UHFFFAOYSA-N</td>\n",
       "      <td>CCC(=O)Nc1cccc(c1)Oc2c3cc[nH]c3nc(n2)Nc4cnn(c4)C</td>\n",
       "    </tr>\n",
       "    <tr>\n",
       "      <th>2</th>\n",
       "      <td>5UG8</td>\n",
       "      <td>8BP</td>\n",
       "      <td>NON-POLYMER</td>\n",
       "      <td>415.468</td>\n",
       "      <td>N-[(3R,4R)-4-fluoro-1-{6-[(1-methyl-1H-pyrazol...</td>\n",
       "      <td>C19 H26 F N9 O</td>\n",
       "      <td>InChI=1S/C19H26FN9O/c1-5-15(30)24-14-9-28(8-13...</td>\n",
       "      <td>CGULPICMFDDQRH-ZIAGYGMSSA-N</td>\n",
       "      <td>CCC(=O)N[C@@H]1CN(C[C@H]1F)c2nc(c3c(n2)n(cn3)C...</td>\n",
       "    </tr>\n",
       "    <tr>\n",
       "      <th>3</th>\n",
       "      <td>3POZ</td>\n",
       "      <td>03P</td>\n",
       "      <td>NON-POLYMER</td>\n",
       "      <td>547.957</td>\n",
       "      <td>N-{2-[4-({3-chloro-4-[3-(trifluoromethyl)pheno...</td>\n",
       "      <td>C26 H25 Cl F3 N5 O3</td>\n",
       "      <td>InChI=1S/C26H25ClF3N5O3/c1-25(2,37)14-22(36)31...</td>\n",
       "      <td>ZYQXEVJIFYIBHZ-UHFFFAOYSA-N</td>\n",
       "      <td>CC(C)(CC(=O)NCCn1ccc2c1c(ncn2)Nc3ccc(c(c3)Cl)O...</td>\n",
       "    </tr>\n",
       "    <tr>\n",
       "      <th>4</th>\n",
       "      <td>5HG5</td>\n",
       "      <td>633</td>\n",
       "      <td>NON-POLYMER</td>\n",
       "      <td>471.554</td>\n",
       "      <td>N-{3-[(2-{[4-(4-methylpiperazin-1-yl)phenyl]am...</td>\n",
       "      <td>C26 H29 N7 O2</td>\n",
       "      <td>InChI=1S/C26H29N7O2/c1-3-23(34)28-19-5-4-6-21(...</td>\n",
       "      <td>JZXKYJJXGSXWTQ-UHFFFAOYSA-N</td>\n",
       "      <td>CCC(=O)Nc1cccc(c1)Oc2c3cc[nH]c3nc(n2)Nc4ccc(cc...</td>\n",
       "    </tr>\n",
       "    <tr>\n",
       "      <th>5</th>\n",
       "      <td>5UGC</td>\n",
       "      <td>8BS</td>\n",
       "      <td>NON-POLYMER</td>\n",
       "      <td>417.441</td>\n",
       "      <td>N-[(3R,4R)-4-fluoro-1-{6-[(3-methoxy-1-methyl-...</td>\n",
       "      <td>C18 H24 F N9 O2</td>\n",
       "      <td>InChI=1S/C18H24FN9O2/c1-5-13(29)21-11-8-28(6-1...</td>\n",
       "      <td>XWNKXCUQRQRAFF-GHMZBOCLSA-N</td>\n",
       "      <td>CCC(=O)N[C@@H]1CN(C[C@H]1F)c2nc(c3c(n2)n(cn3)C...</td>\n",
       "    </tr>\n",
       "  </tbody>\n",
       "</table>\n",
       "</div>"
      ],
      "text/plain": [
       "  @structureId @chemicalID        @type  @molecularWeight  \\\n",
       "0         5UG9         8AM  NON-POLYMER           445.494   \n",
       "1         5HG8         634  NON-POLYMER           377.400   \n",
       "2         5UG8         8BP  NON-POLYMER           415.468   \n",
       "3         3POZ         03P  NON-POLYMER           547.957   \n",
       "4         5HG5         633  NON-POLYMER           471.554   \n",
       "5         5UGC         8BS  NON-POLYMER           417.441   \n",
       "\n",
       "                                        chemicalName              formula  \\\n",
       "0  N-[(3R,4R)-4-fluoro-1-{6-[(3-methoxy-1-methyl-...      C20 H28 F N9 O2   \n",
       "1  N-[3-({2-[(1-methyl-1H-pyrazol-4-yl)amino]-7H-...        C19 H19 N7 O2   \n",
       "2  N-[(3R,4R)-4-fluoro-1-{6-[(1-methyl-1H-pyrazol...       C19 H26 F N9 O   \n",
       "3  N-{2-[4-({3-chloro-4-[3-(trifluoromethyl)pheno...  C26 H25 Cl F3 N5 O3   \n",
       "4  N-{3-[(2-{[4-(4-methylpiperazin-1-yl)phenyl]am...        C26 H29 N7 O2   \n",
       "5  N-[(3R,4R)-4-fluoro-1-{6-[(3-methoxy-1-methyl-...      C18 H24 F N9 O2   \n",
       "\n",
       "                                               InChI  \\\n",
       "0  InChI=1S/C20H28FN9O2/c1-6-15(31)23-13-9-29(7-1...   \n",
       "1  InChI=1S/C19H19N7O2/c1-3-16(27)22-12-5-4-6-14(...   \n",
       "2  InChI=1S/C19H26FN9O/c1-5-15(30)24-14-9-28(8-13...   \n",
       "3  InChI=1S/C26H25ClF3N5O3/c1-25(2,37)14-22(36)31...   \n",
       "4  InChI=1S/C26H29N7O2/c1-3-23(34)28-19-5-4-6-21(...   \n",
       "5  InChI=1S/C18H24FN9O2/c1-5-13(29)21-11-8-28(6-1...   \n",
       "\n",
       "                      InChIKey  \\\n",
       "0  MJLFLAORJNTNDV-CHWSQXEVSA-N   \n",
       "1  YWNHZBNRKJYHTR-UHFFFAOYSA-N   \n",
       "2  CGULPICMFDDQRH-ZIAGYGMSSA-N   \n",
       "3  ZYQXEVJIFYIBHZ-UHFFFAOYSA-N   \n",
       "4  JZXKYJJXGSXWTQ-UHFFFAOYSA-N   \n",
       "5  XWNKXCUQRQRAFF-GHMZBOCLSA-N   \n",
       "\n",
       "                                              smiles  \n",
       "0  CCC(=O)N[C@@H]1CN(C[C@H]1F)c2nc(c3c(n2)n(cn3)C...  \n",
       "1   CCC(=O)Nc1cccc(c1)Oc2c3cc[nH]c3nc(n2)Nc4cnn(c4)C  \n",
       "2  CCC(=O)N[C@@H]1CN(C[C@H]1F)c2nc(c3c(n2)n(cn3)C...  \n",
       "3  CC(C)(CC(=O)NCCn1ccc2c1c(ncn2)Nc3ccc(c(c3)Cl)O...  \n",
       "4  CCC(=O)Nc1cccc(c1)Oc2c3cc[nH]c3nc(n2)Nc4ccc(cc...  \n",
       "5  CCC(=O)N[C@@H]1CN(C[C@H]1F)c2nc(c3c(n2)n(cn3)C...  "
      ]
     },
     "execution_count": 71,
     "metadata": {},
     "output_type": "execute_result"
    }
   ],
   "source": [
    "ligands = pd.DataFrame(rows, columns=columns)\n",
    "ligands"
   ]
  },
  {
   "cell_type": "code",
   "execution_count": 72,
   "id": "04e6a2bf-8df2-44c6-aeaa-26baed0db73b",
   "metadata": {},
   "outputs": [],
   "source": [
    "ligands.to_csv(DATA / \"PDB_top_ligands.csv\", header=True, index=False)\n",
    "#sending the top 6 ortho ligands with the higest resolutions\n",
    "# for .csv file stores it data"
   ]
  },
  {
   "cell_type": "code",
   "execution_count": 73,
   "id": "eee6b27c-f62b-4961-ae0d-7505779bf60e",
   "metadata": {},
   "outputs": [
    {
     "data": {
      "image/png": "[encoded data removed]",
      "text/plain": [
       "<IPython.core.display.Image object>"
      ]
     },
     "execution_count": 73,
     "metadata": {},
     "output_type": "execute_result"
    }
   ],
   "source": [
    "PandasTools.AddMoleculeColumnToFrame(ligands, \"smiles\")\n",
    "Draw.MolsToGridImage(\n",
    "    mols=list(ligands.ROMol),\n",
    "    legends=list(ligands[\"@chemicalID\"] + \", \" + ligands[\"@structureId\"]),\n",
    "    molsPerRow=top_num,\n",
    ")\n",
    "#Draw top ligand molecules"
   ]
  },
  {
   "cell_type": "markdown",
   "id": "13acea9c-76e5-4d6c-9991-12db6f000bec",
   "metadata": {
    "tags": []
   },
   "source": [
    "## Align PDB structures and extract ligands"
   ]
  },
  {
   "cell_type": "code",
   "execution_count": 74,
   "id": "a9382ae5-a780-4dd8-8f69-8238a257ccdf",
   "metadata": {},
   "outputs": [
    {
     "data": {
      "text/plain": [
       "OrderedDict([('5UG9', '8AM'),\n",
       "             ('5HG8', '634'),\n",
       "             ('5UG8', '8BP'),\n",
       "             ('3POZ', '03P'),\n",
       "             ('5HG5', '633'),\n",
       "             ('5UGC', '8BS')])"
      ]
     },
     "execution_count": 74,
     "metadata": {},
     "output_type": "execute_result"
    }
   ],
   "source": [
    "pairs = collections.OrderedDict(zip(ligands[\"@structureId\"], ligands[\"@chemicalID\"]))\n",
    "pairs"
   ]
  },
  {
   "cell_type": "code",
   "execution_count": 75,
   "id": "70c5b7ba-0744-4b9f-87b9-db39c51867ad",
   "metadata": {},
   "outputs": [
    {
     "data": {
      "text/plain": [
       "[<Universe with 2664 atoms>,\n",
       " <Universe with 2716 atoms>,\n",
       " <Universe with 2632 atoms>,\n",
       " <Universe with 2536 atoms>,\n",
       " <Universe with 2849 atoms>,\n",
       " <Universe with 2542 atoms>]"
      ]
     },
     "execution_count": 75,
     "metadata": {},
     "output_type": "execute_result"
    }
   ],
   "source": [
    "structures = [Structure.from_pdbid(pdb_id) for pdb_id in pairs]\n",
    "structures"
   ]
  },
  {
   "cell_type": "code",
   "execution_count": null,
   "id": "1e31913b-fd9d-46c2-9137-b4ffe8194bb0",
   "metadata": {},
   "outputs": [],
   "source": []
  },
  {
   "cell_type": "code",
   "execution_count": null,
   "id": "90cee2de-ed98-4338-acfe-616c725a35b1",
   "metadata": {},
   "outputs": [],
   "source": []
  },
  {
   "cell_type": "code",
   "execution_count": null,
   "id": "ad1f628d-fcb2-44da-9cc7-3ad4350a9313",
   "metadata": {},
   "outputs": [],
   "source": []
  },
  {
   "cell_type": "code",
   "execution_count": null,
   "id": "83381d15-9f90-47f1-9603-12ae3acf5f18",
   "metadata": {},
   "outputs": [],
   "source": []
  },
  {
   "cell_type": "code",
   "execution_count": null,
   "id": "1c218efb-fdda-4386-ba29-6f402a81dc2b",
   "metadata": {},
   "outputs": [],
   "source": []
  },
  {
   "cell_type": "code",
   "execution_count": null,
   "id": "ed788911-9fff-4f11-9bd5-98838a81976f",
   "metadata": {},
   "outputs": [],
   "source": []
  },
  {
   "cell_type": "code",
   "execution_count": null,
   "id": "cec38554-2636-4949-9a15-6d21708fe78e",
   "metadata": {},
   "outputs": [],
   "source": []
  },
  {
   "cell_type": "code",
   "execution_count": null,
   "id": "c696c60c-aa00-49b0-9012-58443f25ad15",
   "metadata": {},
   "outputs": [],
   "source": []
  },
  {
   "cell_type": "code",
   "execution_count": null,
   "id": "352e3295-e8a5-44f5-ab07-c9e4123e433d",
   "metadata": {},
   "outputs": [],
   "source": []
  },
  {
   "cell_type": "code",
   "execution_count": null,
   "id": "72ed81d7-b799-4e71-a828-8fa5853157e5",
   "metadata": {},
   "outputs": [],
   "source": []
  },
  {
   "cell_type": "code",
   "execution_count": null,
   "id": "e4a07808-29a8-4c7f-9c88-06494b088992",
   "metadata": {},
   "outputs": [],
   "source": []
  },
  {
   "cell_type": "code",
   "execution_count": null,
   "id": "ca37e9a1-8dc2-4b6a-a3df-bfd90c632c6b",
   "metadata": {},
   "outputs": [],
   "source": []
  },
  {
   "cell_type": "code",
   "execution_count": null,
   "id": "6e32fb35-e53a-4551-8a45-0f87271239e1",
   "metadata": {},
   "outputs": [],
   "source": []
  },
  {
   "cell_type": "code",
   "execution_count": null,
   "id": "82eeea35-cea9-4294-b8cd-52ce7114b254",
   "metadata": {},
   "outputs": [],
   "source": []
  },
  {
   "cell_type": "code",
   "execution_count": null,
   "id": "82b80bef-dfc7-4161-a771-b07b5ae326c9",
   "metadata": {},
   "outputs": [],
   "source": []
  },
  {
   "cell_type": "code",
   "execution_count": null,
   "id": "32ba71dd-d3c1-43a2-b34b-dab2a724c58d",
   "metadata": {},
   "outputs": [],
   "source": []
  },
  {
   "cell_type": "code",
   "execution_count": null,
   "id": "28364f24-21fc-47b6-b68c-9a94f638f4a4",
   "metadata": {},
   "outputs": [],
   "source": []
  },
  {
   "cell_type": "code",
   "execution_count": null,
   "id": "e2f67a86-7cac-4c2d-a7a3-003b35443fa3",
   "metadata": {},
   "outputs": [],
   "source": []
  },
  {
   "cell_type": "code",
   "execution_count": null,
   "id": "b21b8a01-c2dc-4860-98dc-3f5ee9643c24",
   "metadata": {},
   "outputs": [],
   "source": []
  },
  {
   "cell_type": "code",
   "execution_count": null,
   "id": "cf2858b0-3b62-4cb2-b3e5-14a721723a0c",
   "metadata": {},
   "outputs": [],
   "source": []
  },
  {
   "cell_type": "code",
   "execution_count": null,
   "id": "10b1317d-47a1-4dea-a5fa-fb71d1819f32",
   "metadata": {},
   "outputs": [],
   "source": []
  },
  {
   "cell_type": "code",
   "execution_count": null,
   "id": "b159dda1-c8ec-4128-a937-77b1981ce1bf",
   "metadata": {},
   "outputs": [],
   "source": []
  },
  {
   "cell_type": "code",
   "execution_count": null,
   "id": "0aa7cce6-86fe-4347-8d6d-4a491e34a6d4",
   "metadata": {},
   "outputs": [],
   "source": []
  },
  {
   "cell_type": "code",
   "execution_count": null,
   "id": "45d8062a-8dbd-48a1-9967-b603ce662238",
   "metadata": {},
   "outputs": [],
   "source": []
  },
  {
   "cell_type": "code",
   "execution_count": null,
   "id": "253ac89e-ec7c-43a8-8bb5-b6a2cff5b925",
   "metadata": {},
   "outputs": [],
   "source": []
  },
  {
   "cell_type": "code",
   "execution_count": null,
   "id": "cd2df405-1f5b-4525-b949-6c52734c3df9",
   "metadata": {},
   "outputs": [],
   "source": []
  },
  {
   "cell_type": "code",
   "execution_count": null,
   "id": "305d97c6-d74c-4c60-b197-21d81d715793",
   "metadata": {},
   "outputs": [],
   "source": []
  },
  {
   "cell_type": "code",
   "execution_count": null,
   "id": "13fb180e-c7ac-41bb-ab24-21dbfbbbecd9",
   "metadata": {},
   "outputs": [],
   "source": []
  },
  {
   "cell_type": "code",
   "execution_count": null,
   "id": "989ead3c-7ff8-4cae-9fc1-386e23c9c8c0",
   "metadata": {},
   "outputs": [],
   "source": []
  },
  {
   "cell_type": "code",
   "execution_count": null,
   "id": "9255424c-3a47-458f-9163-4dbce0833ace",
   "metadata": {},
   "outputs": [],
   "source": []
  },
  {
   "cell_type": "code",
   "execution_count": null,
   "id": "bfab2f22-3012-492b-8af8-0be25a60d43f",
   "metadata": {},
   "outputs": [],
   "source": []
  }
 ],
 "metadata": {
  "kernelspec": {
   "display_name": "Python 3 (ipykernel)",
   "language": "python",
   "name": "python3"
  },
  "language_info": {
   "codemirror_mode": {
    "name": "ipython",
    "version": 3
   },
   "file_extension": ".py",
   "mimetype": "text/x-python",
   "name": "python",
   "nbconvert_exporter": "python",
   "pygments_lexer": "ipython3",
   "version": "3.8.13"
  }
 },
 "nbformat": 4,
 "nbformat_minor": 5
}
